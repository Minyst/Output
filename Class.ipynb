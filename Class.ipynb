{
 "cells": [
  {
   "cell_type": "code",
   "execution_count": 1,
   "id": "766ef0de-9f53-4082-bf24-dcd71da0dd72",
   "metadata": {},
   "outputs": [
    {
     "name": "stdout",
     "output_type": "stream",
     "text": [
      "삼성의 스마트폰 기기입니다\n"
     ]
    }
   ],
   "source": [
    "# 1번\n",
    "class Device:\n",
    "    def __init__(self,name,brand):\n",
    "        self.name = name\n",
    "        self.brand = brand\n",
    "    \n",
    "    def info(self):\n",
    "        print(f'{self.brand}의 {self.name} 기기입니다')\n",
    " \n",
    "d = Device('스마트폰','삼성')\n",
    "d.info()"
   ]
  },
  {
   "cell_type": "code",
   "execution_count": 2,
   "id": "e0e0a088-437b-4f70-a6c7-b7424ac64b85",
   "metadata": {},
   "outputs": [
    {
     "name": "stdout",
     "output_type": "stream",
     "text": [
      "현재 카운터는 1입니다.\n",
      "현재 카운터는 2입니다.\n",
      "카운터를 초기화했습니다.\n",
      "현재 카운터는 1입니다.\n"
     ]
    },
    {
     "data": {
      "text/plain": [
       "1"
      ]
     },
     "execution_count": 2,
     "metadata": {},
     "output_type": "execute_result"
    }
   ],
   "source": [
    "# 2번\n",
    "class DeviceCounter:\n",
    "    def __init__(self):\n",
    "        self.count = 0\n",
    "\n",
    "    def add_device(self):\n",
    "        self.count += 1\n",
    "        print(f'현재 카운터는 {self.count}입니다.')\n",
    "        return self.count\n",
    "\n",
    "    def reset(self):\n",
    "        self.count = 0\n",
    "        print(f'카운터를 초기화했습니다.')\n",
    "        return self.count\n",
    "    \n",
    "devicecounter = DeviceCounter()\n",
    "devicecounter.add_device()\n",
    "devicecounter.add_device()\n",
    "devicecounter.reset()\n",
    "devicecounter.add_device()"
   ]
  },
  {
   "cell_type": "code",
   "execution_count": 3,
   "id": "4f4e82fd-39a7-4742-9b89-990a99d0f8a0",
   "metadata": {},
   "outputs": [
    {
     "name": "stdout",
     "output_type": "stream",
     "text": [
      "애플의 태블릿 기기입니다\n",
      "애플의 맥북 노트북입니다\n"
     ]
    }
   ],
   "source": [
    "# 3-1번\n",
    "# __init__ 생성자는 Device에서 정의했지만, Laptop이 상속받아서 사용하고 있다.\n",
    "# Laptop 클래스에서 info() 메서드는 새로 정의했기 때문에, Device의 info()는 무시되고 새로운 info()가 실행된다.\n",
    "# 이런 걸 상속 + 메서드 오버라이딩이라고 한다.\n",
    "# 오버라이드(Override)란?\n",
    "# 부모 클래스(상위 클래스)에 있는 메서드를, 자식 클래스(하위 클래스)에서 \"재정의\" 하는 것을 말한다.\n",
    "# 즉, 부모가 가진 기능을 자식이 자기 스타일로 바꿔서 다시 만드는 것을 말한다.\n",
    "\n",
    "class Device:\n",
    "    def __init__(self,name,brand):\n",
    "        self.name = name\n",
    "        self.brand = brand\n",
    "    \n",
    "    def info(self):\n",
    "        print(f'{self.brand}의 {self.name} 기기입니다')\n",
    "\n",
    "class Laptop(Device):\n",
    "    def info(self):\n",
    "        print(f'{self.brand}의 {self.name} 노트북입니다')\n",
    "    \n",
    "d = Device(\"태블릿\", \"애플\")\n",
    "d.info()\n",
    "\n",
    "l = Laptop(\"맥북\", \"애플\")\n",
    "l.info()"
   ]
  },
  {
   "cell_type": "code",
   "execution_count": 4,
   "id": "9787cf79-d948-4b7f-9ff1-bb1cb96beea7",
   "metadata": {},
   "outputs": [
    {
     "name": "stdout",
     "output_type": "stream",
     "text": [
      "애플의 태블릿 기기입니다.\n",
      "애플의 맥북 노트북입니다.\n"
     ]
    }
   ],
   "source": [
    "# 3-2번\n",
    "class Device:\n",
    "    def __init__(self, name, brand):\n",
    "        self.name = name\n",
    "        self.brand = brand\n",
    "    \n",
    "    def info(self, is_laptop=False):  # is_laptop 파라미터 추가\n",
    "        if is_laptop:\n",
    "            print(f'{self.brand}의 {self.name} 노트북입니다.')\n",
    "        else:\n",
    "            print(f'{self.brand}의 {self.name} 기기입니다.')\n",
    "\n",
    "class Laptop(Device):\n",
    "    def info(self):\n",
    "        super().info(is_laptop=True)  # 부모 클래스의 info()를 활용하면서 노트북 표시\n",
    "\n",
    "d = Device(\"태블릿\", \"애플\")\n",
    "d.info()\n",
    "\n",
    "l = Laptop(\"맥북\", \"애플\")\n",
    "l.info()"
   ]
  },
  {
   "cell_type": "code",
   "execution_count": 5,
   "id": "77cc8a2f-83e9-479d-b37a-9583e5c4f6ff",
   "metadata": {},
   "outputs": [
    {
     "name": "stdout",
     "output_type": "stream",
     "text": [
      "-------------------------------------------------------------------------------------------\n",
      "홍길동\n",
      "안녕하세요, 저는 철수이고, 20살입니다.aaaa\n",
      "안녕하세요, 저는 철수이고, 20살입니다.대한민국\n",
      "안녕하세요, 저는 영희이고, 25살입니다.aaaa\n",
      "안녕하세요, 저는 영희이고, 25살입니다.대한민국\n"
     ]
    }
   ],
   "source": [
    "# Person(Korea) 이게 다 가져오는겁니다. 초기값(클래스 변수), 생성자 모두 다\n",
    "# 상속을 받아야 super.__init__ 이것도 쓸수 있는겁니다.\n",
    "\n",
    "print('-------------------------------------------------------------------------------------------')\n",
    "\n",
    "# 1번\n",
    "# super().__init__에 'aaaa'를 넣었기 때문에 introduce에서 self.nationName하면 'aaaa' 나오지만 \n",
    "# super().nationName하면 대한민국이 나오게된다.\n",
    "\n",
    "#상속\n",
    "class Korean:\n",
    "    city = '서울특별시'\n",
    "    nationName = '대한민국' # 클래스 변수 (모든 인스턴스가 공유함) \n",
    "    population = 51740000\n",
    "    name='홍길동'\n",
    "\n",
    "    def __init__(self,nationName): # 생성자 함수 (객체 초기화 담당)\n",
    "        self.nationName=nationName # 인스턴스 변수 (각 객체마다 개별 값 가짐)\n",
    "\n",
    "\n",
    "#클래스 선언\n",
    "class Person(Korean):\n",
    "\n",
    "   \n",
    "    def __init__(self,name,age,address):\n",
    "        self.name=name\n",
    "        self.age=age\n",
    "        self.address=address\n",
    "        super().__init__('aaaa')\n",
    "\n",
    "\n",
    "        \n",
    "    def introduce(self):\n",
    "        print('안녕하세요, 저는 '+self.name+'이고, '+str(self.age)+'살입니다.'+self.nationName) # 인스턴스 변수\n",
    "        print('안녕하세요, 저는 '+self.name+'이고, '+str(self.age)+'살입니다.'+super().nationName) # 부모 클래스의 클래스 변수\n",
    "\n",
    "    def getKoreanName(self):\n",
    "        return super().name\n",
    "\n",
    "person1 = Person('철수',20,'서울')\n",
    "person2 = Person('영희',25,'부산')\n",
    "\n",
    "name = person1.getKoreanName()\n",
    "print(name)\n",
    "\n",
    "\n",
    "person1.introduce()\n",
    "person2.introduce()"
   ]
  },
  {
   "cell_type": "code",
   "execution_count": 6,
   "id": "d75e1f66-b487-420f-bd97-e6926c37e6cb",
   "metadata": {},
   "outputs": [
    {
     "name": "stdout",
     "output_type": "stream",
     "text": [
      "홍길동\n",
      "안녕하세요, 저는 철수이고, 20살입니다. 대한민국\n",
      "안녕하세요, 저는 영희이고, 25살입니다. 대한민국\n"
     ]
    }
   ],
   "source": [
    "# 2번\n",
    "# 두가지 이유\n",
    "# 클래스 Korean 초기값 nationName에 '대한민국'을 넣었기 때문에 self.nationName하면 '대한민국'이 나온다.\n",
    "# super().__init__에 '대한민국'이 들어가있기 때문에 self.nationName에 '대한민국'이 나온다.\n",
    "# 둘중에 하나만 해도 된다. \n",
    "# 지금 상황은 원래 내용이 대한민국인데 다시 지우고 대한민국으로 적은것과 동일하다.\n",
    "\n",
    "# 부모 클래스 (Korean)\n",
    "class Korean:\n",
    "    city = '서울특별시'\n",
    "    nationName = '대한민국'\n",
    "    population = 51740000\n",
    "    name = '홍길동'\n",
    "    # +1000개 데이터..\n",
    "\n",
    "    def __init__(self, nationName):\n",
    "        self.nationName = nationName\n",
    "\n",
    "# 자식 클래스 (Person)\n",
    "class Person(Korean):\n",
    "    def __init__(self, name, age, address):\n",
    "        self.name = name\n",
    "        self.age = age\n",
    "        self.address = address\n",
    "        super().__init__('대한민국')  # 부모 클래스의 생성자 호출\n",
    "\n",
    "    def introduce(self):\n",
    "        print(f'안녕하세요, 저는 {self.name}이고, {self.age}살입니다. {self.nationName}')  # self.nationName 사용\n",
    "\n",
    "    def getKoreanName(self):\n",
    "        return Korean.name  # 부모 클래스의 클래스 변수 직접 접근\n",
    "\n",
    "# 객체 생성\n",
    "person1 = Person('철수', 20, '서울')\n",
    "person2 = Person('영희', 25, '부산')\n",
    "\n",
    "# 부모 클래스의 기본 이름 가져오기\n",
    "name = person1.getKoreanName()\n",
    "print(name)  # 홍길동\n",
    "\n",
    "# 소개 출력\n",
    "person1.introduce()  \n",
    "person2.introduce()  "
   ]
  },
  {
   "cell_type": "code",
   "execution_count": 7,
   "id": "ad781abc-08a8-4199-bf68-20c8ec0909b7",
   "metadata": {},
   "outputs": [
    {
     "name": "stdout",
     "output_type": "stream",
     "text": [
      "홍길동\n",
      "안녕하세요, 저는 철수이고, 20살입니다. 대한민국\n",
      "안녕하세요, 저는 영희이고, 25살입니다. 대한민국\n"
     ]
    }
   ],
   "source": [
    "# 초기값 없고 생성자 상속 받을때\n",
    "\n",
    "# 부모 클래스 (Korean)\n",
    "class Korean:\n",
    "    city = '서울특별시'\n",
    "    population = 51740000\n",
    "    name = '홍길동'\n",
    "    # +1000개 데이터..\n",
    "\n",
    "    def __init__(self, nationName):\n",
    "        self.nationName = nationName\n",
    "\n",
    "# 자식 클래스 (Person)\n",
    "class Person(Korean):\n",
    "    def __init__(self, name, age, address):\n",
    "        self.name = name\n",
    "        self.age = age\n",
    "        self.address = address\n",
    "        super().__init__('대한민국')  # 부모 클래스의 생성자 호출\n",
    "\n",
    "    def introduce(self):\n",
    "        print(f'안녕하세요, 저는 {self.name}이고, {self.age}살입니다. {self.nationName}')  # self.nationName 사용\n",
    "\n",
    "    def getKoreanName(self):\n",
    "        return Korean.name  # 부모 클래스의 클래스 변수 직접 접근\n",
    "\n",
    "# 객체 생성\n",
    "person1 = Person('철수', 20, '서울')\n",
    "person2 = Person('영희', 25, '부산')\n",
    "\n",
    "# 부모 클래스의 기본 이름 가져오기\n",
    "name = person1.getKoreanName()\n",
    "print(name)  # 홍길동\n",
    "\n",
    "# 소개 출력\n",
    "person1.introduce() \n",
    "person2.introduce()  "
   ]
  },
  {
   "cell_type": "code",
   "execution_count": 8,
   "id": "999164ae-874d-4ef1-80c4-1a30f5a550ce",
   "metadata": {},
   "outputs": [
    {
     "name": "stdout",
     "output_type": "stream",
     "text": [
      "홍길동\n",
      "안녕하세요, 저는 철수이고, 20살입니다. 대한민국\n",
      "안녕하세요, 저는 영희이고, 25살입니다. 대한민국\n"
     ]
    }
   ],
   "source": [
    "# 초기값있을\n",
    "# 지금 Person 클래스는 Korean 클래스를 상속했지만,\n",
    "# Korean의 생성자 __init__()을 명시적으로 호출하지 않았다.\n",
    "\n",
    "# 부모 클래스 (Korean)\n",
    "class Korean:\n",
    "    city = '서울특별시'\n",
    "    nationName = '대한민국'\n",
    "    population = 51740000\n",
    "    name = '홍길동'\n",
    "    # +1000개 데이터..\n",
    "\n",
    "    def __init__(self, nationName):\n",
    "        self.nationName = nationName\n",
    "\n",
    "# 자식 클래스 (Person)\n",
    "class Person(Korean):\n",
    "    def __init__(self, name, age, address):\n",
    "        self.name = name\n",
    "        self.age = age\n",
    "        self.address = address\n",
    "\n",
    "    def introduce(self):\n",
    "        print(f'안녕하세요, 저는 {self.name}이고, {self.age}살입니다. {self.nationName}')  # self.nationName 사용\n",
    "\n",
    "    def getKoreanName(self):\n",
    "        return Korean.name  # 부모 클래스의 클래스 변수 직접 접근\n",
    "\n",
    "# 객체 생성\n",
    "person1 = Person('철수', 20, '서울')\n",
    "person2 = Person('영희', 25, '부산')\n",
    "\n",
    "# 부모 클래스의 기본 이름 가져오기\n",
    "name = person1.getKoreanName()\n",
    "print(name)  # 홍길동\n",
    "\n",
    "# 소개 출력\n",
    "person1.introduce()  \n",
    "person2.introduce()  "
   ]
  },
  {
   "cell_type": "code",
   "execution_count": 9,
   "id": "930d8c00-ef2e-48fa-9b2d-f500980b1c9e",
   "metadata": {},
   "outputs": [
    {
     "name": "stdout",
     "output_type": "stream",
     "text": [
      "data1 :  a, data2:   new data2입니다.\n"
     ]
    }
   ],
   "source": [
    "# 3번 \n",
    "# class Korea에서 data1 초기값으로 'a'를 줬기 때문에 Person class에서 self.data1에 'a'가 나온다.\n",
    "# class Person에서 super().__init__에 'new data2'를 넣었고 그렇게되면 부모 생성자를 불러오는데 부모 생성자에 data2를 설정해뒀기 때문에 'new data2'가 나온다.\n",
    "\n",
    "class Korea:\n",
    "    data1='a'\n",
    "\n",
    "    def __init__(self,data2):\n",
    "        self.data2=data2\n",
    "\n",
    "    \n",
    "\n",
    "class Person(Korea):\n",
    "    def __init__(self,name,age):\n",
    "        self.name=name\n",
    "        self.age=age\n",
    "        super().__init__('new data2')\n",
    "\n",
    "    def info(self):\n",
    "        print(f'data1 :  {self.data1}, data2:   {self.data2}입니다.')\n",
    "\n",
    "\n",
    "\n",
    "man = Person('홍길동',20)\n",
    "man.info()"
   ]
  },
  {
   "cell_type": "code",
   "execution_count": 10,
   "id": "6c8799d0-d940-4dfb-9095-cf90e0aa2bb9",
   "metadata": {},
   "outputs": [
    {
     "name": "stdout",
     "output_type": "stream",
     "text": [
      "data1 :  new data1, data2:   new data2입니다.\n"
     ]
    }
   ],
   "source": [
    "# 4번\n",
    "# class Person에서 super().__init__에 'new data1', 'new data2'를 넣었고 \n",
    "# super기 때문에 부모생성자를 불러오는데 data1, data2로 설정이 되어있으므로\n",
    "# 생성자로 내용을 다시 적었기 때문에\n",
    "# 초기값인 'a'가 아니라 self.data1에 'new data1'이 나오게된다.\n",
    "\n",
    "class Korea:\n",
    "    data1='a'\n",
    "\n",
    "    def __init__(self,data1,data2):\n",
    "        self.data1=data1\n",
    "        self.data2=data2\n",
    "\n",
    "    \n",
    "\n",
    "class Person(Korea):\n",
    "    def __init__(self,name,age):\n",
    "        self.name=name\n",
    "        self.age=age\n",
    "        super().__init__('new data1','new data2')\n",
    "\n",
    "    def info(self):\n",
    "        print(f'data1 :  {self.data1}, data2:   {self.data2}입니다.')\n",
    "\n",
    "\n",
    "\n",
    "man = Person('홍길동',20)\n",
    "man.info()"
   ]
  },
  {
   "cell_type": "code",
   "execution_count": 11,
   "id": "6759638d-3563-4179-af32-440cf038f4f2",
   "metadata": {},
   "outputs": [],
   "source": [
    "# __init__은 생성자이자 매직메서드이다.\n",
    "# __len__이랑 __getitem__은 생성자가 아니라 매직메서드이다.\n",
    "# __init__ 객체 생성 시 자동 호출 → 초기화"
   ]
  },
  {
   "cell_type": "code",
   "execution_count": 12,
   "id": "61e03ee9-ec73-48ce-ae86-650ae0c00fac",
   "metadata": {},
   "outputs": [],
   "source": [
    "# 매직 메서드는 파이썬에서 특별한 의미를 가지는 특수한 이름을 가진 메서드이다.\n",
    "# 보통 __init__, __str__, __len__ 같은 앞뒤에 밑줄 두 개(__)가 붙은 메서드들을 말한다.\n",
    "# 이런 메서드들은 파이썬 내부에서 자동으로 호출된다.\n",
    "# __init__\t객체 생성 시 초기화 함수\n",
    "# __str__\t객체를 문자열로 표현할 때\n",
    "# __len__\tlen() 함수 사용할 때\n",
    "# __add__\t+ 연산자 사용 시\n",
    "# __eq__\t== 비교할 때"
   ]
  },
  {
   "cell_type": "code",
   "execution_count": 13,
   "id": "aeb6271a-5a00-445f-ac5b-940b7ed12758",
   "metadata": {},
   "outputs": [],
   "source": [
    "# __init__에서 만든 함수를 __len__, __getitem__ 같은 다른 매직 메서드에서 super() 없이 그냥 쓸 수 있나?\n",
    "# 쓸 수 있다.\n",
    "\n",
    "# 이유는 간단하다.\n",
    "# __init__에서 정의한 속성이나 메서드는 그 클래스의 인스턴스가 만들어질 때 초기화되니까,\n",
    "# 그 뒤에 호출되는 __len__, __getitem__ 같은 메서드에서도 그 속성을 사용할 수 있다.\n",
    "\n",
    "# 상속받은 클래스에서 __init__을 오버라이딩(overriding)할 때는\n",
    "# 부모 클래스의 __init__에서 만든 속성들을 사용하려면 super().__init__()을 꼭 호출해줘야한다."
   ]
  },
  {
   "cell_type": "code",
   "execution_count": 14,
   "id": "766a335a-014b-4878-b033-5f9c2c3bc990",
   "metadata": {},
   "outputs": [
    {
     "name": "stdout",
     "output_type": "stream",
     "text": [
      "생성자 호출됨!\n",
      "3\n",
      "20\n"
     ]
    }
   ],
   "source": [
    "class MyDataset:\n",
    "    def __init__(self, data):\n",
    "        self.data = data\n",
    "        print(\"생성자 호출됨!\")\n",
    "\n",
    "    def __len__(self):\n",
    "        return len(self.data)\n",
    "\n",
    "    def __getitem__(self, idx):\n",
    "        return self.data[idx]\n",
    "\n",
    "ds = MyDataset([10, 20, 30])   # → 생성자 (__init__) 호출됨\n",
    "print(len(ds))                 # → __len__ 호출됨 → 3\n",
    "print(ds[1])                   # → __getitem__ 호출됨 → 20"
   ]
  },
  {
   "cell_type": "code",
   "execution_count": 15,
   "id": "d4f56cf6-7903-4300-a3b8-451161857891",
   "metadata": {},
   "outputs": [],
   "source": [
    "# MyChild의 __getitem__이 먼저 실행됨\n",
    "# 내부에서 super().__getitem__(idx)로 부모의 __getitem__도 호출함\n",
    "# 부모는 idx * 2 반환 → 자식은 거기에 +1 해서 최종값 리턴"
   ]
  },
  {
   "cell_type": "code",
   "execution_count": 16,
   "id": "1f007304-7521-44e8-8909-f29f49009669",
   "metadata": {},
   "outputs": [
    {
     "name": "stdout",
     "output_type": "stream",
     "text": [
      "MyChild __getitem__ 실행됨\n",
      "MyBase __getitem__ 실행됨\n",
      "7\n"
     ]
    }
   ],
   "source": [
    "class MyBase:\n",
    "    def __getitem__(self, idx):\n",
    "        print(\"MyBase __getitem__ 실행됨\")\n",
    "        return idx * 2\n",
    "\n",
    "class MyChild(MyBase):\n",
    "    def __getitem__(self, idx):\n",
    "        print(\"MyChild __getitem__ 실행됨\")\n",
    "        result = super().__getitem__(idx)  # 부모의 동작 호출\n",
    "        return result + 1\n",
    "        \n",
    "obj = MyChild()\n",
    "print(obj[3])"
   ]
  },
  {
   "cell_type": "code",
   "execution_count": 17,
   "id": "4569f894-520a-4cd8-aa44-a8bd00f4880c",
   "metadata": {},
   "outputs": [
    {
     "name": "stdout",
     "output_type": "stream",
     "text": [
      "자식 __len__\n",
      "부모 __len__\n",
      "15\n"
     ]
    }
   ],
   "source": [
    "class MyBase:\n",
    "    def __len__(self):\n",
    "        print(\"부모 __len__\")\n",
    "        return 10\n",
    "        \n",
    "class MyChild(MyBase):\n",
    "    def __len__(self):\n",
    "        print(\"자식 __len__\")\n",
    "        return super().__len__() + 5\n",
    "        \n",
    "obj = MyChild()\n",
    "print(len(obj))  # 출력: 자식 __len__, 부모 __len__, 15"
   ]
  }
 ],
 "metadata": {
  "kernelspec": {
   "display_name": "Python 3 (ipykernel)",
   "language": "python",
   "name": "python3"
  },
  "language_info": {
   "codemirror_mode": {
    "name": "ipython",
    "version": 3
   },
   "file_extension": ".py",
   "mimetype": "text/x-python",
   "name": "python",
   "nbconvert_exporter": "python",
   "pygments_lexer": "ipython3",
   "version": "3.12.7"
  }
 },
 "nbformat": 4,
 "nbformat_minor": 5
}
