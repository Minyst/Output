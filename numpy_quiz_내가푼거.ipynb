{
 "cells": [
  {
   "cell_type": "code",
   "execution_count": 1,
   "id": "091febb0-86b9-45df-a444-005c70b7e549",
   "metadata": {},
   "outputs": [],
   "source": [
    "import numpy as np\n",
    "array = np.arange(0, 25)\n",
    "matrix = array.reshape((5, 5))\n",
    "# Manually rotate the matrix counterclockwise\n",
    "rotated_matrix = np.zeros((5,5))\n",
    "for i in range(matrix.shape[0]):\n",
    "    for j in range(matrix.shape[1]):\n",
    "        rotated_matrix[j, matrix.shape[0] - 1 - i] = matrix[i, j]\n",
    "# Flip the matrix vertically\n",
    "flipped_matrix = np.flip(rotated_matrix, axis=0)\n",
    "# Extracting the center 3x3 part of the flipped matrix using sclicing\n",
    "region = flipped_matrix[1:4, 1:4]"
   ]
  },
  {
   "cell_type": "code",
   "execution_count": 2,
   "id": "68c30891-ab86-42ba-b587-b701d255993e",
   "metadata": {},
   "outputs": [
    {
     "data": {
      "text/plain": [
       "array([[20., 15., 10.,  5.,  0.],\n",
       "       [21., 16., 11.,  6.,  1.],\n",
       "       [22., 17., 12.,  7.,  2.],\n",
       "       [23., 18., 13.,  8.,  3.],\n",
       "       [24., 19., 14.,  9.,  4.]])"
      ]
     },
     "execution_count": 2,
     "metadata": {},
     "output_type": "execute_result"
    }
   ],
   "source": [
    "rotated_matrix_1"
   ]
  },
  {
   "cell_type": "code",
   "execution_count": null,
   "id": "c8f5ad8f-0f27-47a7-9bc1-2c7c0604e3b8",
   "metadata": {},
   "outputs": [],
   "source": [
    "# 1.\n",
    "# Rotate the image 90 degrees clockwise. (DO NOT use np.rot90 or any built-in rotation functions)\n",
    "# 2.\n",
    "# Flip the rotated image horizontally.\n",
    "# 3.\n",
    "# Crop out the center 100x100 pixels of the previously rotated and flipped."
   ]
  },
  {
   "cell_type": "code",
   "execution_count": 7,
   "id": "604c4330-0c89-410a-97ae-95593a2e0a5f",
   "metadata": {},
   "outputs": [
    {
     "data": {
      "text/plain": [
       "array([[24., 23., 22., 21., 20.],\n",
       "       [19., 18., 17., 16., 15.],\n",
       "       [14., 13., 12., 11., 10.],\n",
       "       [ 9.,  8.,  7.,  6.,  5.],\n",
       "       [ 4.,  3.,  2.,  1.,  0.]])"
      ]
     },
     "execution_count": 7,
     "metadata": {},
     "output_type": "execute_result"
    }
   ],
   "source": [
    "# 1번\n",
    "for i in range(matrix.shape[0]):\n",
    "    for j in range(matrix.shape[1]):\n",
    "        rotated_matrix[matrix.shape[0] - 1 - i,j] = matrix[i,j]\n",
    "k = []\n",
    "for i in range(5):\n",
    "    k.append(np.sort(rotated_matrix[i])[::-1])\n",
    "rotated_matrix_2 = np.array(k)\n",
    "rotated_matrix_2"
   ]
  },
  {
   "cell_type": "code",
   "execution_count": 4,
   "id": "92774f11-16ff-4cd5-bfd3-cd7d65a02ee2",
   "metadata": {},
   "outputs": [
    {
     "data": {
      "text/plain": [
       "array([[20., 15., 10.,  5.,  0.],\n",
       "       [21., 16., 11.,  6.,  1.],\n",
       "       [22., 17., 12.,  7.,  2.],\n",
       "       [23., 18., 13.,  8.,  3.],\n",
       "       [24., 19., 14.,  9.,  4.]])"
      ]
     },
     "execution_count": 4,
     "metadata": {},
     "output_type": "execute_result"
    }
   ],
   "source": [
    "# 1번\n",
    "for i in range(matrix.shape[0]):\n",
    "    for j in range(matrix.shape[1]):\n",
    "        rotated_matrix[j,matrix.shape[0] - 1 - i] = matrix[i,j]\n",
    "k = []\n",
    "for i in range(5):\n",
    "    k.append(np.sort(rotated_matrix[i])[::-1])\n",
    "rotated_matrix_3 = np.array(k)\n",
    "rotated_matrix_3"
   ]
  },
  {
   "cell_type": "code",
   "execution_count": 8,
   "id": "2771fecd-07b6-4991-bffa-1be8e4316213",
   "metadata": {},
   "outputs": [
    {
     "data": {
      "text/plain": [
       "array([[20., 21., 22., 23., 24.],\n",
       "       [15., 16., 17., 18., 19.],\n",
       "       [10., 11., 12., 13., 14.],\n",
       "       [ 5.,  6.,  7.,  8.,  9.],\n",
       "       [ 0.,  1.,  2.,  3.,  4.]])"
      ]
     },
     "execution_count": 8,
     "metadata": {},
     "output_type": "execute_result"
    }
   ],
   "source": [
    "# 2번\n",
    "flipped_matrix = np.flip(rotated_matrix_2, axis=1)\n",
    "flipped_matrix"
   ]
  },
  {
   "cell_type": "code",
   "execution_count": null,
   "id": "76fcb37b-b622-46df-9b6c-5fb52c979c99",
   "metadata": {},
   "outputs": [],
   "source": [
    "# 3번\n",
    "flipped_matrix = flipped_matrix[0:100, 0:100, ]\n",
    "flipped_matrix"
   ]
  }
 ],
 "metadata": {
  "kernelspec": {
   "display_name": "Python 3 (ipykernel)",
   "language": "python",
   "name": "python3"
  },
  "language_info": {
   "codemirror_mode": {
    "name": "ipython",
    "version": 3
   },
   "file_extension": ".py",
   "mimetype": "text/x-python",
   "name": "python",
   "nbconvert_exporter": "python",
   "pygments_lexer": "ipython3",
   "version": "3.12.7"
  }
 },
 "nbformat": 4,
 "nbformat_minor": 5
}
