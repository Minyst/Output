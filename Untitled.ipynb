{
 "cells": [
  {
   "cell_type": "code",
   "execution_count": 2,
   "id": "be36eb46-3557-46eb-9718-8f6efae00c60",
   "metadata": {},
   "outputs": [
    {
     "name": "stdout",
     "output_type": "stream",
     "text": [
      "삼성의 스마트폰 기기입니다.\n"
     ]
    }
   ],
   "source": [
    "class Device:\n",
    "    def __init__(self,name,brand):\n",
    "        self.name = name\n",
    "        self.brand = brand\n",
    "    def info(self):\n",
    "        print(f\"{self.brand}의 {self.name} 기기입니다.\")\n",
    "d = Device(\"스마트폰\",\"삼성\")\n",
    "d.info()"
   ]
  },
  {
   "cell_type": "code",
   "execution_count": 7,
   "id": "861e40d7-dd9c-485a-8dec-8a67bff94e18",
   "metadata": {},
   "outputs": [
    {
     "name": "stdout",
     "output_type": "stream",
     "text": [
      "현재 값은 1입니다.\n",
      "현재 값은 2입니다.\n",
      "초기화\n",
      "현재 값은 1입니다.\n"
     ]
    },
    {
     "data": {
      "text/plain": [
       "1"
      ]
     },
     "execution_count": 7,
     "metadata": {},
     "output_type": "execute_result"
    }
   ],
   "source": [
    "class DeviceCounter:\n",
    "    def __init__(self):\n",
    "        self.count = 0\n",
    "    def add_device(self):\n",
    "        self.count+=1\n",
    "        print(f\"현재 값은 {self.count}입니다.\")\n",
    "        return self.count\n",
    "        \n",
    "    def reset(self):\n",
    "        self.count = 0\n",
    "        print(\"초기화\")\n",
    "        return self.count\n",
    "\n",
    "devicecounter = DeviceCounter()\n",
    "devicecounter.add_device()\n",
    "devicecounter.add_device()\n",
    "devicecounter.reset()\n",
    "devicecounter.add_device() "
   ]
  },
  {
   "cell_type": "code",
   "execution_count": 10,
   "id": "7f6a507b-bf03-4508-be54-612c77e3c0cb",
   "metadata": {},
   "outputs": [
    {
     "name": "stdout",
     "output_type": "stream",
     "text": [
      "애플의 태블릿 기기입니다.\n",
      "애플의 맥북 노트북입니다.\n"
     ]
    }
   ],
   "source": [
    "class Device:\n",
    "    def __init__(self,name,brand):\n",
    "        self.name = name\n",
    "        self.brand = brand\n",
    "    def info(self):\n",
    "        print(f\"{self.brand}의 {self.name} 기기입니다.\")\n",
    "\n",
    "class Laptop(Device):\n",
    "    def info(self):\n",
    "        print(f\"{self.brand}의 {self.name} 노트북입니다.\")\n",
    "        \n",
    "        \n",
    "\n",
    "d = Device(\"태블릿\", \"애플\")\n",
    "d.info()\n",
    "\n",
    "l = Laptop(\"맥북\", \"애플\")\n",
    "l.info()"
   ]
  }
 ],
 "metadata": {
  "kernelspec": {
   "display_name": "Python 3 (ipykernel)",
   "language": "python",
   "name": "python3"
  },
  "language_info": {
   "codemirror_mode": {
    "name": "ipython",
    "version": 3
   },
   "file_extension": ".py",
   "mimetype": "text/x-python",
   "name": "python",
   "nbconvert_exporter": "python",
   "pygments_lexer": "ipython3",
   "version": "3.12.7"
  }
 },
 "nbformat": 4,
 "nbformat_minor": 5
}
