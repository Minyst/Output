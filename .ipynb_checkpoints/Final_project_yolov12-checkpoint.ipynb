{
 "cells": [
  {
   "cell_type": "code",
   "execution_count": 1,
   "metadata": {
    "colab": {
     "base_uri": "https://localhost:8080/"
    },
    "id": "Rtbixeb9NRT7",
    "outputId": "3ce8f5a5-d3f5-4e73-f50a-167d252a4c32"
   },
   "outputs": [
    {
     "name": "stdout",
     "output_type": "stream",
     "text": [
      "2.5.1+cpu\n",
      "False\n",
      "0\n"
     ]
    }
   ],
   "source": [
    "import torch\n",
    "print(torch.__version__)\n",
    "print(torch.cuda.is_available())  # True면 GPU 있음, False면 없음\n",
    "print(torch.cuda.device_count())  # 몇 개의 GPU가 있는지"
   ]
  },
  {
   "cell_type": "code",
   "execution_count": null,
   "metadata": {},
   "outputs": [],
   "source": [
    "!pip install roboflow"
   ]
  },
  {
   "cell_type": "code",
   "execution_count": null,
   "metadata": {},
   "outputs": [],
   "source": [
    "from roboflow import Roboflow\n",
    "rf = Roboflow(api_key=\"Gl7NoZVCPDwAV7jAHJjG\")\n",
    "project1 = rf.workspace(\"kt-jeavz\").project(\"skin-cancer-svnul-xiywu\")\n",
    "version1 = project.version(2)\n",
    "dataset1 = version1.download(\"yolov12\")  \n",
    "dataset1\n",
    "\n",
    "project2 = rf.workspace(\"kt-jeavz\").project(\"brain-tumor-gsh0d-hp8v4\")\n",
    "version2 = project2.version(2)\n",
    "dataset2 = version2.download(\"yolov12\")\n",
    "\n",
    "project3 = rf.workspace(\"kt-jeavz\").project(\"polyp-detection_at_colonoscopy_p-p33wl\")\n",
    "version3 = project3.version(1)\n",
    "dataset3 = version3.download(\"yolov12\")              "
   ]
  },
  {
   "cell_type": "code",
   "execution_count": 1,
   "metadata": {
    "colab": {
     "base_uri": "https://localhost:8080/"
    },
    "id": "q6VKOqxIQGb3",
    "outputId": "6a85b1b9-055f-4ac9-e862-9a46f3f77c3d"
   },
   "outputs": [
    {
     "name": "stdout",
     "output_type": "stream",
     "text": [
      "643\n",
      "641\n",
      "412\n"
     ]
    }
   ],
   "source": [
    "import glob\n",
    "\n",
    "skin_dataset = glob.glob('C:/Users/USER/Documents/skin/train/images/*.jpg')\n",
    "print(len(skin_dataset))\n",
    "\n",
    "brain_dataset = glob.glob('C:/Users/USER/Documents/brain/train/images/*.jpg')\n",
    "print(len(brain_dataset))\n",
    "\n",
    "colon_dataset = glob.glob('C:/Users/USER/Documents/colon/train/images/*.jpg')\n",
    "print(len(colon_dataset))"
   ]
  },
  {
   "cell_type": "code",
   "execution_count": null,
   "metadata": {},
   "outputs": [],
   "source": [
    "test_skin_dataset = glob.glob('C:/Users/USER/Documents/skin/test/images/*.jpg')\n",
    "print(len(test_skin_dataset))\n",
    "\n",
    "test_brain_dataset = glob.glob('C:/Users/USER/Documents/brain/test/images/*.jpg')\n",
    "print(len(test_brain_dataset))\n",
    "\n",
    "test_colon_dataset = glob.glob('C:/Users/USER/Documents/colon/test/images/*.jpg')\n",
    "print(len(test_colon_dataset))"
   ]
  },
  {
   "cell_type": "code",
   "execution_count": null,
   "metadata": {},
   "outputs": [],
   "source": [
    "rf = Roboflow(api_key=\"Gl7NoZVCPDwAV7jAHJjG\")\n",
    "project1 = rf.workspace(\"kt-jeavz\").project(\"skin-cancer-svnul-xiywu\")\n",
    "version1 = project.version(2)\n",
    "dataset1 = version1.download(\"yolov12\")  \n",
    "dataset1\n",
    "\n",
    "project2 = rf.workspace(\"kt-jeavz\").project(\"brain-tumor-gsh0d-hp8v4\")\n",
    "version2 = project2.version(2)\n",
    "dataset2 = version2.download(\"yolov12\")\n",
    "\n",
    "project3 = rf.workspace(\"kt-jeavz\").project(\"polyp-detection_at_colonoscopy_p-p33wl\")\n",
    "version3 = project3.version(1)\n",
    "dataset3 = version3.download(\"yolov12\")   "
   ]
  },
  {
   "cell_type": "code",
   "execution_count": null,
   "metadata": {},
   "outputs": [],
   "source": [
    "import os\n",
    "import shutil\n",
    "\n",
    "# 합쳐진 데이터셋 저장할 폴더\n",
    "merged_path = \"merged_dataset\"\n",
    "for split in ['train', 'test']:\n",
    "    images_path = os.path.join(merged_path, split, 'images')\n",
    "    labels_path = os.path.join(merged_path, split, 'labels')\n",
    "    os.makedirs(images_path, exist_ok=True)\n",
    "    os.makedirs(labels_path, exist_ok=True)\n",
    "\n",
    "# 원본 데이터셋들 경로\n",
    "datasets = [dataset1, dataset2, dataset3]\n",
    "\n",
    "# 파일 복사\n",
    "for dataset in datasets:\n",
    "    for split in ['train', 'test']:\n",
    "        img_src = os.path.join(dataset, split, 'images')\n",
    "        lbl_src = os.path.join(dataset, split, 'labels')\n",
    "        img_dst = os.path.join(merged_path, split, 'images')\n",
    "        lbl_dst = os.path.join(merged_path, split, 'labels')\n",
    "\n",
    "        if os.path.exists(img_src):\n",
    "            for f in glob(os.path.join(img_src, '*')):\n",
    "                shutil.copy(f, os.path.join(img_dst, os.path.basename(f)))\n",
    "        if os.path.exists(lbl_src):\n",
    "            for f in glob(os.path.join(lbl_src, '*')):\n",
    "                shutil.copy(f, os.path.join(lbl_dst, os.path.basename(f)))"
   ]
  },
  {
   "cell_type": "code",
   "execution_count": null,
   "metadata": {},
   "outputs": [],
   "source": [
    "total_dataset = glob.glob('C:/Users/USER/Documents/total/train/images/*.jpg')\n",
    "print(len(total_dataset))"
   ]
  },
  {
   "cell_type": "code",
   "execution_count": null,
   "metadata": {},
   "outputs": [],
   "source": [
    "test_total_dataset = glob.glob('C:/Users/USER/Documents/total/test/images/*.jpg')\n",
    "print(len(test_total_dataset))"
   ]
  },
  {
   "cell_type": "code",
   "execution_count": 2,
   "metadata": {
    "colab": {
     "base_uri": "https://localhost:8080/"
    },
    "id": "-EkT1wiWFXX8",
    "outputId": "dc40740e-6f56-469a-ac1d-ec28af20e256"
   },
   "outputs": [
    {
     "name": "stdout",
     "output_type": "stream",
     "text": [
      "Requirement already satisfied: ultralytics in c:\\users\\user\\anaconda3\\lib\\site-packages (8.3.98)\n",
      "Requirement already satisfied: numpy<=2.1.1,>=1.23.0 in c:\\users\\user\\anaconda3\\lib\\site-packages (from ultralytics) (1.26.4)\n",
      "Requirement already satisfied: matplotlib>=3.3.0 in c:\\users\\user\\anaconda3\\lib\\site-packages (from ultralytics) (3.9.2)\n",
      "Requirement already satisfied: opencv-python>=4.6.0 in c:\\users\\user\\anaconda3\\lib\\site-packages (from ultralytics) (4.10.0.84)\n",
      "Requirement already satisfied: pillow>=7.1.2 in c:\\users\\user\\anaconda3\\lib\\site-packages (from ultralytics) (10.4.0)\n",
      "Requirement already satisfied: pyyaml>=5.3.1 in c:\\users\\user\\anaconda3\\lib\\site-packages (from ultralytics) (6.0.1)\n",
      "Requirement already satisfied: requests>=2.23.0 in c:\\users\\user\\anaconda3\\lib\\site-packages (from ultralytics) (2.32.3)\n",
      "Requirement already satisfied: scipy>=1.4.1 in c:\\users\\user\\anaconda3\\lib\\site-packages (from ultralytics) (1.13.1)\n",
      "Requirement already satisfied: torch>=1.8.0 in c:\\users\\user\\anaconda3\\lib\\site-packages (from ultralytics) (2.5.1)\n",
      "Requirement already satisfied: torchvision>=0.9.0 in c:\\users\\user\\anaconda3\\lib\\site-packages (from ultralytics) (0.20.1)\n",
      "Requirement already satisfied: tqdm>=4.64.0 in c:\\users\\user\\anaconda3\\lib\\site-packages (from ultralytics) (4.66.5)\n",
      "Requirement already satisfied: psutil in c:\\users\\user\\anaconda3\\lib\\site-packages (from ultralytics) (5.9.0)\n",
      "Requirement already satisfied: py-cpuinfo in c:\\users\\user\\anaconda3\\lib\\site-packages (from ultralytics) (9.0.0)\n",
      "Requirement already satisfied: pandas>=1.1.4 in c:\\users\\user\\anaconda3\\lib\\site-packages (from ultralytics) (2.2.2)\n",
      "Requirement already satisfied: seaborn>=0.11.0 in c:\\users\\user\\anaconda3\\lib\\site-packages (from ultralytics) (0.13.2)\n",
      "Requirement already satisfied: ultralytics-thop>=2.0.0 in c:\\users\\user\\anaconda3\\lib\\site-packages (from ultralytics) (2.0.14)\n",
      "Requirement already satisfied: contourpy>=1.0.1 in c:\\users\\user\\anaconda3\\lib\\site-packages (from matplotlib>=3.3.0->ultralytics) (1.2.0)\n",
      "Requirement already satisfied: cycler>=0.10 in c:\\users\\user\\anaconda3\\lib\\site-packages (from matplotlib>=3.3.0->ultralytics) (0.11.0)\n",
      "Requirement already satisfied: fonttools>=4.22.0 in c:\\users\\user\\anaconda3\\lib\\site-packages (from matplotlib>=3.3.0->ultralytics) (4.51.0)\n",
      "Requirement already satisfied: kiwisolver>=1.3.1 in c:\\users\\user\\anaconda3\\lib\\site-packages (from matplotlib>=3.3.0->ultralytics) (1.4.4)\n",
      "Requirement already satisfied: packaging>=20.0 in c:\\users\\user\\anaconda3\\lib\\site-packages (from matplotlib>=3.3.0->ultralytics) (24.1)\n",
      "Requirement already satisfied: pyparsing>=2.3.1 in c:\\users\\user\\anaconda3\\lib\\site-packages (from matplotlib>=3.3.0->ultralytics) (3.1.2)\n",
      "Requirement already satisfied: python-dateutil>=2.7 in c:\\users\\user\\anaconda3\\lib\\site-packages (from matplotlib>=3.3.0->ultralytics) (2.9.0.post0)\n",
      "Requirement already satisfied: pytz>=2020.1 in c:\\users\\user\\anaconda3\\lib\\site-packages (from pandas>=1.1.4->ultralytics) (2024.1)\n",
      "Requirement already satisfied: tzdata>=2022.7 in c:\\users\\user\\anaconda3\\lib\\site-packages (from pandas>=1.1.4->ultralytics) (2023.3)\n",
      "Requirement already satisfied: charset-normalizer<4,>=2 in c:\\users\\user\\anaconda3\\lib\\site-packages (from requests>=2.23.0->ultralytics) (3.3.2)\n",
      "Requirement already satisfied: idna<4,>=2.5 in c:\\users\\user\\anaconda3\\lib\\site-packages (from requests>=2.23.0->ultralytics) (3.7)\n",
      "Requirement already satisfied: urllib3<3,>=1.21.1 in c:\\users\\user\\anaconda3\\lib\\site-packages (from requests>=2.23.0->ultralytics) (2.2.3)\n",
      "Requirement already satisfied: certifi>=2017.4.17 in c:\\users\\user\\anaconda3\\lib\\site-packages (from requests>=2.23.0->ultralytics) (2024.8.30)\n",
      "Requirement already satisfied: filelock in c:\\users\\user\\anaconda3\\lib\\site-packages (from torch>=1.8.0->ultralytics) (3.13.1)\n",
      "Requirement already satisfied: typing-extensions>=4.8.0 in c:\\users\\user\\anaconda3\\lib\\site-packages (from torch>=1.8.0->ultralytics) (4.11.0)\n",
      "Requirement already satisfied: networkx in c:\\users\\user\\anaconda3\\lib\\site-packages (from torch>=1.8.0->ultralytics) (3.3)\n",
      "Requirement already satisfied: jinja2 in c:\\users\\user\\anaconda3\\lib\\site-packages (from torch>=1.8.0->ultralytics) (3.1.4)\n",
      "Requirement already satisfied: fsspec in c:\\users\\user\\anaconda3\\lib\\site-packages (from torch>=1.8.0->ultralytics) (2024.6.1)\n",
      "Requirement already satisfied: setuptools in c:\\users\\user\\anaconda3\\lib\\site-packages (from torch>=1.8.0->ultralytics) (75.1.0)\n",
      "Requirement already satisfied: sympy==1.13.1 in c:\\users\\user\\anaconda3\\lib\\site-packages (from torch>=1.8.0->ultralytics) (1.13.1)\n",
      "Requirement already satisfied: mpmath<1.4,>=1.1.0 in c:\\users\\user\\anaconda3\\lib\\site-packages (from sympy==1.13.1->torch>=1.8.0->ultralytics) (1.3.0)\n",
      "Requirement already satisfied: colorama in c:\\users\\user\\anaconda3\\lib\\site-packages (from tqdm>=4.64.0->ultralytics) (0.4.6)\n",
      "Requirement already satisfied: six>=1.5 in c:\\users\\user\\anaconda3\\lib\\site-packages (from python-dateutil>=2.7->matplotlib>=3.3.0->ultralytics) (1.16.0)\n",
      "Requirement already satisfied: MarkupSafe>=2.0 in c:\\users\\user\\anaconda3\\lib\\site-packages (from jinja2->torch>=1.8.0->ultralytics) (2.1.3)\n"
     ]
    }
   ],
   "source": [
    "!pip install ultralytics"
   ]
  },
  {
   "cell_type": "code",
   "execution_count": null,
   "metadata": {
    "colab": {
     "base_uri": "https://localhost:8080/",
     "height": 447
    },
    "id": "3h2nAXssEqBf",
    "outputId": "2813c09c-e3ac-4fb7-80bb-aa146bae7d78"
   },
   "outputs": [
    {
     "name": "stdout",
     "output_type": "stream",
     "text": [
      "New https://pypi.org/project/ultralytics/8.3.99 available  Update with 'pip install -U ultralytics'\n",
      "Ultralytics 8.3.98  Python-3.12.7 torch-2.5.1+cpu CPU (13th Gen Intel Core(TM) i9-13900)\n",
      "\u001b[34m\u001b[1mengine\\trainer: \u001b[0mtask=detect, mode=train, model=yolo12n.pt, data=C:/Users/USER/Documents/skin/data.yaml, epochs=100, time=None, patience=100, batch=16, imgsz=640, save=True, save_period=-1, cache=False, device=None, workers=8, project=None, name=train4, exist_ok=False, pretrained=True, optimizer=auto, verbose=True, seed=0, deterministic=True, single_cls=False, rect=False, cos_lr=False, close_mosaic=10, resume=False, amp=True, fraction=1.0, profile=False, freeze=None, multi_scale=False, overlap_mask=True, mask_ratio=4, dropout=0.0, val=True, split=val, save_json=False, save_hybrid=False, conf=None, iou=0.7, max_det=300, half=False, dnn=False, plots=True, source=None, vid_stride=1, stream_buffer=False, visualize=False, augment=False, agnostic_nms=False, classes=None, retina_masks=False, embed=None, show=False, save_frames=False, save_txt=False, save_conf=False, save_crop=False, show_labels=True, show_conf=True, show_boxes=True, line_width=None, format=torchscript, keras=False, optimize=False, int8=False, dynamic=False, simplify=True, opset=None, workspace=None, nms=False, lr0=0.01, lrf=0.01, momentum=0.937, weight_decay=0.0005, warmup_epochs=3.0, warmup_momentum=0.8, warmup_bias_lr=0.1, box=7.5, cls=0.5, dfl=1.5, pose=12.0, kobj=1.0, nbs=64, hsv_h=0.015, hsv_s=0.7, hsv_v=0.4, degrees=0.0, translate=0.1, scale=0.5, shear=0.0, perspective=0.0, flipud=0.0, fliplr=0.5, bgr=0.0, mosaic=1.0, mixup=0.0, copy_paste=0.0, copy_paste_mode=flip, auto_augment=randaugment, erasing=0.4, crop_fraction=1.0, cfg=None, tracker=botsort.yaml, save_dir=runs\\detect\\train4\n",
      "Overriding model.yaml nc=80 with nc=5\n",
      "\n",
      "                   from  n    params  module                                       arguments                     \n",
      "  0                  -1  1       464  ultralytics.nn.modules.conv.Conv             [3, 16, 3, 2]                 \n",
      "  1                  -1  1      4672  ultralytics.nn.modules.conv.Conv             [16, 32, 3, 2]                \n",
      "  2                  -1  1      6640  ultralytics.nn.modules.block.C3k2            [32, 64, 1, False, 0.25]      \n",
      "  3                  -1  1     36992  ultralytics.nn.modules.conv.Conv             [64, 64, 3, 2]                \n",
      "  4                  -1  1     26080  ultralytics.nn.modules.block.C3k2            [64, 128, 1, False, 0.25]     \n",
      "  5                  -1  1    147712  ultralytics.nn.modules.conv.Conv             [128, 128, 3, 2]              \n",
      "  6                  -1  2    180864  ultralytics.nn.modules.block.A2C2f           [128, 128, 2, True, 4]        \n",
      "  7                  -1  1    295424  ultralytics.nn.modules.conv.Conv             [128, 256, 3, 2]              \n",
      "  8                  -1  2    689408  ultralytics.nn.modules.block.A2C2f           [256, 256, 2, True, 1]        \n",
      "  9                  -1  1         0  torch.nn.modules.upsampling.Upsample         [None, 2, 'nearest']          \n",
      " 10             [-1, 6]  1         0  ultralytics.nn.modules.conv.Concat           [1]                           \n",
      " 11                  -1  1     86912  ultralytics.nn.modules.block.A2C2f           [384, 128, 1, False, -1]      \n",
      " 12                  -1  1         0  torch.nn.modules.upsampling.Upsample         [None, 2, 'nearest']          \n",
      " 13             [-1, 4]  1         0  ultralytics.nn.modules.conv.Concat           [1]                           \n",
      " 14                  -1  1     24000  ultralytics.nn.modules.block.A2C2f           [256, 64, 1, False, -1]       \n",
      " 15                  -1  1     36992  ultralytics.nn.modules.conv.Conv             [64, 64, 3, 2]                \n",
      " 16            [-1, 11]  1         0  ultralytics.nn.modules.conv.Concat           [1]                           \n",
      " 17                  -1  1     74624  ultralytics.nn.modules.block.A2C2f           [192, 128, 1, False, -1]      \n",
      " 18                  -1  1    147712  ultralytics.nn.modules.conv.Conv             [128, 128, 3, 2]              \n",
      " 19             [-1, 8]  1         0  ultralytics.nn.modules.conv.Concat           [1]                           \n",
      " 20                  -1  1    378880  ultralytics.nn.modules.block.C3k2            [384, 256, 1, True]           \n",
      " 21        [14, 17, 20]  1    431647  ultralytics.nn.modules.head.Detect           [5, [64, 128, 256]]           \n",
      "YOLOv12n summary: 272 layers, 2,569,023 parameters, 2,569,007 gradients, 6.5 GFLOPs\n",
      "\n",
      "Transferred 640/691 items from pretrained weights\n",
      "Freezing layer 'model.21.dfl.conv.weight'\n"
     ]
    },
    {
     "name": "stderr",
     "output_type": "stream",
     "text": [
      "\u001b[34m\u001b[1mtrain: \u001b[0mScanning C:\\Users\\USER\\Documents\\skin\\train\\labels.cache... 643 images, 0 backgrounds, 0 corrupt: 100%|█████████\u001b[0m\n",
      "\u001b[34m\u001b[1mval: \u001b[0mScanning C:\\Users\\USER\\Documents\\skin\\valid\\labels.cache... 4268 images, 0 backgrounds, 0 corrupt: 100%|██████████\u001b[0m"
     ]
    },
    {
     "name": "stdout",
     "output_type": "stream",
     "text": [
      "WARNING  Box and segment counts should be equal, but got len(segments) = 465, len(boxes) = 7479. To resolve this only boxes will be used and all segments will be removed. To avoid this please supply either a detect or segment dataset, not a detect-segment mixed dataset.\n"
     ]
    },
    {
     "name": "stderr",
     "output_type": "stream",
     "text": [
      "\n"
     ]
    },
    {
     "name": "stdout",
     "output_type": "stream",
     "text": [
      "Plotting labels to runs\\detect\\train4\\labels.jpg... \n"
     ]
    }
   ],
   "source": [
    "from ultralytics import YOLO\n",
    "import matplotlib.pyplot as plt\n",
    "\n",
    "model = YOLO(\"yolo12n.pt\")\n",
    "\n",
    "# epochs = [100,300,500]\n",
    "# for epoch in epochs:\n",
    "\n",
    "model.train(data=\"C:/Users/USER/Documents/skin/data.yaml\", epochs=100, imgsz=640)"
   ]
  },
  {
   "cell_type": "code",
   "execution_count": null,
   "metadata": {
    "id": "0hi3yxZ9cBeQ"
   },
   "outputs": [],
   "source": [
    "model = YOLO(\"/content/runs/detect/train2/weights/best.pt\")\n",
    "model.train(data=\"C:/Users/USER/Documents/brain/data.yaml\", epochs=100, imgsz=640, device=1)"
   ]
  },
  {
   "cell_type": "code",
   "execution_count": null,
   "metadata": {
    "id": "N9VmkZ8UcDaB"
   },
   "outputs": [],
   "source": [
    "model = YOLO(\"/content/runs/detect/train3/weights/best.pt\")\n",
    "model.train(data=\"C:/Users/USER/Documents/colon/data.yaml\", epochs=100, imgsz=640, device=1)"
   ]
  },
  {
   "cell_type": "code",
   "execution_count": null,
   "metadata": {
    "id": "hmmVW69idtS3"
   },
   "outputs": [],
   "source": [
    "model = YOLO(\"/content/runs/detect/train4/weights/best.pt\")"
   ]
  },
  {
   "cell_type": "code",
   "execution_count": null,
   "metadata": {
    "id": "BXIx3Jh3NRT_",
    "outputId": "869e75d3-094d-43eb-cfbf-a10d12653e02"
   },
   "outputs": [],
   "source": [
    "import cv2\n",
    "import json\n",
    "import matplotlib.pyplot as plt\n",
    "\n",
    "image_paths = [\n",
    "    \"/content/dataset1/test/images\",\n",
    "    \"/content/dataset2/test/images\",\n",
    "    \"/content/dataset3/test/images\"\n",
    "]\n",
    "\n",
    "image_labels = [\n",
    "    \"/content/dataset1/test/labels\",\n",
    "    \"/content/dataset2/test/labels\",\n",
    "    \"/content/dataset3/test/labels\"\n",
    "]\n",
    "\n",
    "final_images = []\n",
    "pred_labels = []\n",
    "labels_result = []\n",
    "\n",
    "for path in image_paths:\n",
    "    result = model(path, device=1)\n",
    "    boxes = result[0].boxes\n",
    "    conf_mask = boxes.conf >= 0.5\n",
    "    label = boxes.cls[conf_mask]\n",
    "\n",
    "    boxes.data = boxes.data[conf_mask]\n",
    "    img_with_boxes = result[0].plot()\n",
    "    final_image = cv2.cvtColor(img_with_boxes, cv2.COLOR_BGR2RGB)\n",
    "\n",
    "    pred_labels.append(label)\n",
    "    final_images.append(final_image)\n",
    "\n",
    "\n",
    "match = any(label in pred_labels.tolist() for label in image_labels)\n",
    "labels_result.append(match)"
   ]
  },
  {
   "cell_type": "code",
   "execution_count": null,
   "metadata": {
    "id": "iJuUDpdahMw2"
   },
   "outputs": [],
   "source": [
    "from sklearn.metrics import accuracy_score\n",
    "from sklearn.metrics import f1_score\n",
    "from sklearn.metrics import confusion_matrix\n",
    "\n",
    "y_true = []\n",
    "y_pred = []\n",
    "\n",
    "for gt_labels, pred_labels in zip(image_labels, final_labels):\n",
    "    # 1. 정답에 라벨이 하나라도 있으면 → 정답 있음 (1)\n",
    "    y_true.append(1 if len(gt_labels) > 0 else 0)\n",
    "\n",
    "    # 2. 예측 라벨 중 정답 라벨 하나라도 맞췄으면 → 예측 성공 (1)\n",
    "    match = any(gt in pred_labels.tolist() for gt in gt_labels)\n",
    "    y_pred.append(1 if match else 0)\n",
    "\n",
    "accuracy = accuracy_score(y_true, y_pred)\n",
    "print(\"Accuracy:\", accuracy)\n",
    "\n",
    "f1 = f1_score(y_true, y_pred, average='macro')  # 'micro', 'weighted'도 가능\n",
    "print(\"F1 Score:\", f1)\n",
    "\n",
    "def dice_score(y_true, y_pred, class_id=1):\n",
    "    cm = confusion_matrix(y_true, y_pred, labels=[class_id])\n",
    "    tp = cm[0, 0]\n",
    "    fp = sum(cm[0]) - tp\n",
    "    fn = sum(cm[:, 0]) - tp\n",
    "    dice = 2 * tp / (2 * tp + fp + fn) if (2 * tp + fp + fn) > 0 else 0.0\n",
    "    return dice\n",
    "\n",
    "score = dice_score(y_true, y_pred, class_id=1)\n",
    "print(\"Dice Score:\", score)\n",
    "\n",
    "plt.figure(figsize=(6, 5))\n",
    "sns.heatmap(cm, annot=True, fmt='d', cmap='Blues',\n",
    "            xticklabels=labels, yticklabels=labels)\n",
    "plt.xlabel('Predicted')\n",
    "plt.ylabel('True')\n",
    "plt.title('Confusion Matrix')\n",
    "plt.show()"
   ]
  },
  {
   "cell_type": "code",
   "execution_count": null,
   "metadata": {
    "id": "M8HdSnPEhOYs"
   },
   "outputs": [],
   "source": [
    "with open('fianl_images.json', 'w', encoding='utf-8') as f:\n",
    "    json.dump(final_images, f)"
   ]
  }
 ],
 "metadata": {
  "accelerator": "GPU",
  "colab": {
   "gpuType": "T4",
   "provenance": []
  },
  "kernelspec": {
   "display_name": "Python 3 (ipykernel)",
   "language": "python",
   "name": "python3"
  },
  "language_info": {
   "codemirror_mode": {
    "name": "ipython",
    "version": 3
   },
   "file_extension": ".py",
   "mimetype": "text/x-python",
   "name": "python",
   "nbconvert_exporter": "python",
   "pygments_lexer": "ipython3",
   "version": "3.12.7"
  }
 },
 "nbformat": 4,
 "nbformat_minor": 4
}
